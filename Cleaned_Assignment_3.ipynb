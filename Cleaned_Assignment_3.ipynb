{
 "cells": [
  {
   "cell_type": "markdown",
   "id": "7ed24ad8",
   "metadata": {
    "id": "OfXHVSox-81c"
   },
   "source": [
    "# Assignment 3: Mastering Conditional Statements and Loops\n",
    "\n",
    "**Objective:**\n",
    "> This assignment will reinforce your understanding of conditional statements (if-else) and loops (for, while).\n",
    "\n",
    "> In this assignment, you will create an interactive Python program that presents a menu of options to the user.\n",
    "> Each menu option will correspond to a specific task, such as performing calculations, processing lists or strings, or playing a guessing game.\n"
   ]
  },
  {
   "cell_type": "markdown",
   "id": "54f07542",
   "metadata": {
    "id": "87ILVdo3Ewfk"
   },
   "source": [
    "**Guidelines:**\n",
    "> - Discussing concepts with classmates is fine, but **all code and answers must be your own**.\n",
    "- **Do not copy** code or answers from classmates, online sources, or generative tools. Plagiarism will result in a zero for this assignment and could lead to further disciplinary action.\n",
    "- Using external help beyond what's acceptable is not allowed.\n",
    "- While using generative tools is encouraged for exploring ideas, relying on them too much at this stage will hinder your learning process. Focus on building your foundational skills.\n",
    "- For any doubts or clarification, feel free to reach out during office hours, post on the course forum, or ask for help during the recitation."
   ]
  },
  {
   "cell_type": "markdown",
   "id": "10c82c7f",
   "metadata": {
    "id": "OJLbsr71GuDS"
   },
   "source": [
    "**Submission:**\n",
    "> - Complete all exercises and download your Jupyter notebook as a `.ipynb` file:  \n",
    "  **File > Download > Download .ipynb**.\n",
    "- Upload the `.ipynb` file to **Moodle** under the assignment submission link.\n",
    "- Submit the assignment by the due date listed on Moodle.\n",
    "- Late submissions may incur penalties according to the course policy.\n",
    "- The assignment is to be submitted in **pairs**."
   ]
  },
  {
   "cell_type": "markdown",
   "id": "5c07edfc",
   "metadata": {
    "id": "aCyGjI5RvCEn"
   },
   "source": [
    "**Instructions:**\n",
    "- Your program should display a menu with 5 different options.\n",
    "- Based on the user's selection, the program should perform different tasks.\n",
    "- Use conditional statements to determine which menu option was selected and execute the appropriate code.\n",
    "- Some of the menu options will involve loops for repeated tasks, such as processing a list or repeating a game until the user completes it.\n",
    "- The program will keep running until the user chooses to exit (Option 5).\n",
    "- Include clear comments in your code to explain each part of the program."
   ]
  },
  {
   "cell_type": "markdown",
   "id": "2deca3ef",
   "metadata": {
    "id": "pPRfAoT4xo6W"
   },
   "source": [
    "### **Hints and Suggestions**:\n",
    "- Before starting each menu option, break down the problem and think about how conditionals and loops can be applied to solve it.\n",
    "- Test your program frequently. After adding each new feature (e.g., a menu option), run the code to ensure everything works as expected.\n",
    "- If you get stuck, review the examples and concepts from the recitation and the previous lectures.\n",
    "- For the \"Guess the Number Game,\" consider using Python’s built-in `random` module to generate the random number.\n",
    "- Be mindful of **infinite loops**. Always ensure that your `while` loops have a clear exit condition, especially for the number guessing game.\n",
    "- Check out the following pages\n",
    "[Conditions](https://www.w3schools.com/python/python_conditions.asp)\n",
    "[while loop](https://www.w3schools.com/python/python_while_loops.asp)\n",
    "[for loop](https://www.w3schools.com/python/python_for_loops.asp)"
   ]
  },
  {
   "cell_type": "markdown",
   "id": "78d69c82",
   "metadata": {
    "id": "9O8Zy4O6AGGU"
   },
   "source": [
    "<br><br><br>\n",
    "\n",
    "---"
   ]
  },
  {
   "cell_type": "markdown",
   "id": "ad790aae",
   "metadata": {
    "id": "FZ-vEaMhvWrY"
   },
   "source": [
    "## **Menu Options**:\n",
    "\n",
    "Your program will present the following options to the user:\n",
    "\n",
    "#### **Option 1: Basic Calculator**  \n",
    "- Prompt the user to enter two numbers.\n",
    "- Ask the user to choose an operation: addition, subtraction, multiplication, or division.\n",
    "- Based on the selected operation, perform the calculation and display the result.\n",
    "- Make sure to handle potential edge cases, such as division by zero.\n",
    "\n",
    "#### **Option 2: Print List Elements**  \n",
    "- Ask the user to input a list of items (e.g., favorite movies, numbers, etc.).\n",
    "- Store these items in a Python list.\n",
    "- Use a loop to iterate through the list and print each item.\n",
    "- After printing all items, display how many items were in the list.\n",
    "\n",
    "#### **Option 3: Guess the Number Game**  \n",
    "- The program should randomly generate a number between 1 and 100.\n",
    "- Use a loop to repeatedly ask the user to guess the number.\n",
    "- For each guess, provide feedback on whether the guess was too high, too low, or correct.\n",
    "- Keep track of how many guesses the user made.\n",
    "- End the game once the correct number is guessed, and display the total number of attempts.\n",
    "\n",
    "#### **Option 4: String Processing**  \n",
    "- Ask the user to input a string.\n",
    "- Provide the following sub-options for processing the string:\n",
    "  1. **Count Vowels**: Count and display the number of vowels (a, e, i, o, u) in the string.\n",
    "  2. **Reverse String**: Reverse the entire string and display it.\n",
    "  3. **String Length**: Display the length of the string.\n",
    "- The user should be able to select which string operation they would like to perform.\n",
    "\n",
    "#### **Option 5: Exit the Program**  \n",
    "- If the user selects this option, the program should terminate gracefully.\n",
    "- Display a goodbye message and exit the loop that runs the menu.\n"
   ]
  },
  {
   "cell_type": "markdown",
   "id": "a38c634a",
   "metadata": {
    "id": "baX3ZZ1-wUtG"
   },
   "source": [
    "### **Additional Requirements**:\n",
    "\n",
    "- **Input Validation**:  \n",
    "  Ensure that the program handles invalid inputs gracefully. For example, if the user selects an invalid menu option, display an error message and ask them to choose again.\n",
    "  \n",
    "- **Loop Control**:  \n",
    "  The program should continue displaying the menu after each operation, allowing the user to select another option until they choose to exit (Option 5).\n",
    "\n",
    "- **Use of Comments**:  \n",
    "  Be sure to include comments throughout your program, explaining what each section of code is doing. This is important for readability and demonstrating your understanding.\n"
   ]
  },
  {
   "cell_type": "markdown",
   "id": "e196620e",
   "metadata": {
    "id": "E-5y0Oq6wLlJ"
   },
   "source": [
    "### Example:\n",
    "```\n",
    "Welcome to the Interactive Menu!\n",
    "1. Basic Calculator\n",
    "2. Print List Elements\n",
    "3. Guess the Number Game\n",
    "4. String Processing\n",
    "5. Exit\n",
    "\n",
    "Please choose an option (1-5): 1\n",
    "You selected Basic Calculator.\n",
    "\n",
    "Enter the first number: 12\n",
    "Enter the second number: 8\n",
    "Choose an operation:\n",
    "1. Add\n",
    "2. Subtract\n",
    "3. Multiply\n",
    "4. Divide\n",
    "Your choice: 1\n",
    "The result of 12 + 8 is: 20\n",
    "\n",
    "Welcome to the Interactive Menu!\n",
    "1. Basic Calculator\n",
    "2. Print List Elements\n",
    "3. Guess the Number Game\n",
    "4. String Processing\n",
    "5. Exit\n",
    "\n",
    "Please choose an option (1-5): 2\n",
    "You selected Print List Elements.\n",
    "\n",
    "How many items do you want to add to the list? 3\n",
    "Enter item 1: Apple\n",
    "Enter item 2: Banana\n",
    "Enter item 3: Cherry\n",
    "\n",
    "Your list is: ['Apple', 'Banana', 'Cherry']\n",
    "The total number of items in your list is: 3\n",
    "\n",
    "Welcome to the Interactive Menu!\n",
    "1. Basic Calculator\n",
    "2. Print List Elements\n",
    "3. Guess the Number Game\n",
    "4. String Processing\n",
    "5. Exit\n",
    "\n",
    "Please choose an option (1-5): 3\n",
    "You selected Guess the Number Game.\n",
    "\n",
    "I am thinking of a number between 1 and 100. Try to guess it!\n",
    "Enter your guess: 50\n",
    "Too low! Try again.\n",
    "Enter your guess: 75\n",
    "Too high! Try again.\n",
    "Enter your guess: 65\n",
    "Too high! Try again.\n",
    "Enter your guess: 60\n",
    "Congratulations! You've guessed the correct number in 4 attempts!\n",
    "\n",
    "Welcome to the Interactive Menu!\n",
    "1. Basic Calculator\n",
    "2. Print List Elements\n",
    "3. Guess the Number Game\n",
    "4. String Processing\n",
    "5. Exit\n",
    "\n",
    "Please choose an option (1-5): 4\n",
    "You selected String Processing.\n",
    "\n",
    "Enter a string: Hello World!\n",
    "What would you like to do with the string?\n",
    "1. Count Vowels\n",
    "2. Reverse String\n",
    "3. String Length\n",
    "Your choice: 1\n",
    "The number of vowels in \"Hello World!\" is: 3\n",
    "\n",
    "Welcome to the Interactive Menu!\n",
    "1. Basic Calculator\n",
    "2. Print List Elements\n",
    "3. Guess the Number Game\n",
    "4. String Processing\n",
    "5. Exit\n",
    "\n",
    "Please choose an option (1-5): 5\n",
    "Exiting the program. Goodbye!\n",
    "```"
   ]
  },
  {
   "cell_type": "markdown",
   "id": "e4c28e00",
   "metadata": {
    "id": "GIJ2pEV1wmlq"
   },
   "source": [
    "---"
   ]
  },
  {
   "cell_type": "markdown",
   "id": "76ec8d1c",
   "metadata": {
    "id": "WnbKVTy0wc7x"
   },
   "source": [
    "## Solution\n",
    "We recommend completing each menu option separately, then combining all sections of code."
   ]
  },
  {
   "cell_type": "code",
   "execution_count": 105,
   "id": "7c7d973c",
   "metadata": {
    "colab": {
     "base_uri": "https://localhost:8080/"
    },
    "id": "bqZuMWBzvWBQ",
    "outputId": "86c793ca-b96f-484d-eaac-53d7f7518dfd"
   },
   "outputs": [
    {
     "name": "stdout",
     "output_type": "stream",
     "text": [
      "Welcome to the Interactive Menu!\n",
      "1. Basic Calculator\n",
      "2. Print List Elements\n",
      "3. Guess the Number Game\n",
      "4. String Processing\n",
      "5. Exit\n",
      "\n",
      "Please choose a number (1-5)3\n",
      "Choose a number between 1-100:45\n",
      "\n",
      "The number 45 is higher than the random number\n",
      "\n",
      "Choose a number between 1-100:35\n",
      "\n",
      "The number 35 is higher than the random number\n",
      "\n",
      "Choose a number between 1-100:30\n",
      "\n",
      "The number 30 is higher than the random number\n",
      "\n",
      "Choose a number between 1-100:20\n",
      "\n",
      "The number 20 is higher than the random number\n",
      "\n",
      "Choose a number between 1-100:10\n",
      "\n",
      "The number 10 is higher than the random number\n",
      "\n",
      "Choose a number between 1-100:9\n",
      "\n",
      "The number 9 is higher than the random number\n",
      "\n",
      "Choose a number between 1-100:7\n",
      "\n",
      "The number 7 is higher than the random number\n",
      "\n",
      "Choose a number between 1-100:4\n",
      "\n",
      "Congrats!The number 4 is the right number. It took you 8 guesses,way too long  \n",
      "Welcome to the Interactive Menu!\n",
      "1. Basic Calculator\n",
      "2. Print List Elements\n",
      "3. Guess the Number Game\n",
      "4. String Processing\n",
      "5. Exit\n",
      "\n",
      "Please choose a number (1-5)5\n",
      "Exiting the program. Goodbye!\n"
     ]
    }
   ],
   "source": [
    "str_menu = '''Welcome to the Interactive Menu!\n",
    "1. Basic Calculator\n",
    "2. Print List Elements\n",
    "3. Guess the Number Game\n",
    "4. String Processing\n",
    "5. Exit\n",
    "'''\n",
    "\n",
    "while True:\n",
    "\n",
    "  print(str_menu)\n",
    "  choose_menu=int(input(\"Please choose a number (1-5)\"))\n",
    "\n",
    "\n",
    "  #option 1\n",
    "  if choose_menu == 1:\n",
    "      print(\"Welcome to the Basic Calculator\")\n",
    "      first_number = int(input(\"Enter a number: \"))\n",
    "      second_number = int(input(\"Enter another number: \"))\n",
    "\n",
    "      print(\"Choose an operation: 1 = add, 2 = multiply, 3 = subtract, 4 = divide\")\n",
    "\n",
    "      while True:\n",
    "          operation = int(input(\"Enter operation number: \"))\n",
    "          if operation == 1:\n",
    "              print(f\"{first_number} + {second_number} = {first_number + second_number}\")\n",
    "\n",
    "          elif operation == 2:\n",
    "              print(f\"{first_number} * {second_number} = {first_number * second_number}\")\n",
    "\n",
    "          elif operation == 3:\n",
    "              print(f\"{first_number} - {second_number} = {first_number - second_number}\")\n",
    "\n",
    "          elif operation == 4:\n",
    "              if second_number == 0:\n",
    "                  print(\"Division by zero is not allowed. Please try again.\")\n",
    "              else:\n",
    "                  print(f\"{first_number} / {second_number} = {first_number / second_number}\")\n",
    "          else:\n",
    "              print(\"Invalid operation. Please choose a valid option.\")\n",
    "\n",
    "          break  # Exit the loop after one operation\n",
    "\n",
    "  #option 2\n",
    "\n",
    "  elif choose_menu == 2:\n",
    "    print(\"Welcome to List Printer\")\n",
    "    movie = input(\"Enter a movie name: \")\n",
    "    numberi = int(input(\"Enter your lucky number: \"))\n",
    "    hobby = input(\"Enter your hobby: \")\n",
    "    place = input(\"Enter your favorite place: \")\n",
    "    users_answers = [movie, numberi, hobby, place]\n",
    "\n",
    "    print(f\"Your list is: {users_answers}\")\n",
    "    print(f\"The number of items in your list is: {len(users_answers)}\")\n",
    "\n",
    "\n",
    "  #option 3\n",
    "\n",
    "  import random\n",
    "\n",
    "  if choose_menu == 3:\n",
    "    guesses = 1   #starting from one, because in order to guesse you need to \"use\" a guesse\n",
    "\n",
    "    ran_number = random.randint(1, 100)\n",
    "    number = int(input(\"Choose a number between 1-100:\"))\n",
    "\n",
    "    while True:\n",
    "\n",
    "      if number in  list(range(1,100)):   #Created a list in order for the computer to know the range\n",
    "        break\n",
    "      else:\n",
    "        number = int(input(\"Invalid number. Please choose a number between 1-100: \"))\n",
    "\n",
    "    while number != ran_number :\n",
    "\n",
    "      if number < ran_number :#We don't need the second option becasue that works for both scenarios(Higher and lower)\n",
    "        print(f'\\nThe number {number} is lower than the random number')\n",
    "      else:\n",
    "        print(f'\\nThe number {number} is higher than the random number')\n",
    "        guesses = guesses + 1\n",
    "\n",
    "      number = int(input(\"\\nChoose a number between 1-100:\"))\n",
    "\n",
    "    print(f'\\nCongrats!The number {number} is the right number. It took you {guesses} guesses,way too long  ')\n",
    "\n",
    "  #option 4\n",
    "  if choose_menu == 4:\n",
    "\n",
    "    word = input('Type any word you want: ')\n",
    "\n",
    "    while True:\n",
    "\n",
    "      choice = input('Choose one of the options below (1/2/3): ')\n",
    "\n",
    "      if choice ==\"1\" :\n",
    "          vowels = ['a','e','i','o','u']\n",
    "          x = 0\n",
    "          for vowel in vowels:\n",
    "            x = x + word.count(vowel)\n",
    "          print(f'The number of vowels is {x}. ')\n",
    "\n",
    "      elif choice ==\"2\" :\n",
    "        y = word [::-1]\n",
    "        print(f'The word {word} in reverse is {y}.' )\n",
    "\n",
    "      elif choice ==\"3\" :\n",
    "        l = len(word)\n",
    "        print(f'The length of your word is {l} .')\n",
    "\n",
    "      else:\n",
    "        print(\"Invalid choice. Try again.\")\n",
    "\n",
    "      break\n",
    "\n",
    "\n",
    "      #option 5\n",
    "  if choose_menu == 5:\n",
    "    print(\"Exiting the program. Goodbye!\")\n",
    "    break\n"
   ]
  },
  {
   "cell_type": "code",
   "execution_count": null,
   "id": "c8730fb8",
   "metadata": {
    "id": "rhd1-WmMwoRk"
   },
   "outputs": [],
   "source": [
    "# <TODO>\n",
    "\n",
    "# # For Example\n",
    "# while choose_menu!=5:\n",
    "#   print(str_menu)\n",
    "#   choose_menu = int(input())\n",
    "\n",
    "#   if choose_menu == 1:\n",
    "#     pass\n",
    "#   elif choose_menu == 5:\n",
    "#     print(\"Exiting the program. Goodbye!\")\n",
    "\n",
    "\n",
    "# # For Example\n",
    "# while True:\n",
    "#   print(str_menu)\n",
    "#   choose_menu = int(input())\n",
    "\n",
    "#   if choose_menu == 1:\n",
    "#     pass\n",
    "#   elif choose_menu == 5:\n",
    "#     print(\"Exiting the program. Goodbye!\")\n",
    "#     break"
   ]
  },
  {
   "cell_type": "code",
   "execution_count": 29,
   "id": "db6cbbdc",
   "metadata": {
    "colab": {
     "base_uri": "https://localhost:8080/"
    },
    "id": "oDEVd1uEwoTu",
    "outputId": "7f8c7a50-ffef-4c64-f3d2-b56a03b3cf32"
   },
   "outputs": [
    {
     "name": "stdout",
     "output_type": "stream",
     "text": [
      "Type any word you want: word\n",
      "Choose one of the options below (1/2/3): 3\n",
      "The length of your word is 4 .\n"
     ]
    }
   ],
   "source": [
    "word = input('Type any word you want: ')\n",
    "\n",
    "while True:\n",
    "  choice = input('Choose one of the options below (1/2/3): ')\n",
    "\n",
    "  if choice ==\"1\" :\n",
    "      vowels = ['a','e','i','o','u']\n",
    "      x = 0\n",
    "      for vowel in vowels:\n",
    "        x = x + word.count(vowel)\n",
    "      print(f'The number of vowels is {x}. ')\n",
    "\n",
    "  elif choice ==\"2\" :\n",
    "    y = word [::-1]\n",
    "    print(f'The word {word} in reverse is {y}.' )\n",
    "\n",
    "  elif choice ==\"3\" :\n",
    "    l = len(word)\n",
    "    print(f'The length of your word is {l} .')\n",
    "\n",
    "  else:\n",
    "    print(\"Invalid choice. Try again.\")\n",
    "\n",
    "  break\n"
   ]
  },
  {
   "cell_type": "code",
   "execution_count": null,
   "id": "cdaad1c1",
   "metadata": {
    "id": "rW9p1TIowoV0"
   },
   "outputs": [],
   "source": []
  },
  {
   "cell_type": "code",
   "execution_count": 64,
   "id": "9c2b0e29",
   "metadata": {
    "colab": {
     "base_uri": "https://localhost:8080/"
    },
    "id": "JinTFJv5u3RW",
    "outputId": "54557a81-c891-4a08-82ce-e50820df584f"
   },
   "outputs": [
    {
     "name": "stdout",
     "output_type": "stream",
     "text": [
      "Choose a number between 1-100:45\n",
      "\n",
      "The number 45 is higher than the random number\n",
      "\n",
      "Choose a number between 1-100:34\n",
      "\n",
      "The number 34 is higher than the random number\n",
      "\n",
      "Choose a number between 1-100:20\n",
      "\n",
      "Congrats!The number 20 is the right number. It took you 3 guesses,way too long  \n"
     ]
    }
   ],
   "source": [
    "import random\n",
    "\n",
    "guesses = 1\n",
    "\n",
    "ran_number = random.randint(1, 100)\n",
    "number = int(input(\"Choose a number between 1-100:\"))\n",
    "\n",
    "while True:\n",
    "\n",
    "  if number in  list(range(1,100)):\n",
    "    break\n",
    "  else:\n",
    "   number = int(input(\"Invalid number. Please choose a number between 1-100: \"))\n",
    "\n",
    "while number != ran_number :\n",
    "\n",
    "  if number < ran_number :\n",
    "    print(f'\\nThe number {number} is lower than the random number')\n",
    "  else:\n",
    "    print(f'\\nThe number {number} is higher than the random number')\n",
    "    guesses = guesses + 1\n",
    "\n",
    "  number = int(input(\"\\nChoose a number between 1-100:\"))\n",
    "\n",
    "print(f'\\nCongrats!The number {number} is the right number. It took you {guesses} guesses,way too long  ')\n",
    "\n",
    "\n",
    "\n",
    "\n"
   ]
  },
  {
   "cell_type": "markdown",
   "id": "df2d2cc4",
   "metadata": {
    "id": "cUj4_NcREtIM"
   },
   "source": [
    "\n",
    "\n",
    "---\n",
    "\n"
   ]
  },
  {
   "cell_type": "code",
   "execution_count": null,
   "id": "a9dae87a",
   "metadata": {
    "id": "gUptcXUFKfXC"
   },
   "outputs": [],
   "source": [
    "if game_choice == \"1\":\n",
    "  #game one\n",
    "elif game_choice == \"5\":\n",
    "  break"
   ]
  },
  {
   "cell_type": "markdown",
   "id": "196e0f4d",
   "metadata": {
    "id": "VEIGxbVJEtKI"
   },
   "source": [
    "Good Luck."
   ]
  }
 ],
 "metadata": {},
 "nbformat": 4,
 "nbformat_minor": 5
}
