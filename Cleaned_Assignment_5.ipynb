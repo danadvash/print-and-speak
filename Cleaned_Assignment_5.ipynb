{
 "cells": [
  {
   "cell_type": "markdown",
   "id": "46b3e125",
   "metadata": {
    "id": "OfXHVSox-81c"
   },
   "source": [
    "# Assignment 5: Exploring Data Structures & Files\n",
    "## Lists, Sets, Dictionaries, Classes, and JSONs\n",
    "\n",
    "**Objective:**\n",
    "In this assignment, you will explore Python’s core data structures: **Lists, Sets, Dictionaries, and Classes.**   \n",
    "\n",
    "This assignment is designed to help you build foundational knowledge on how to store, access, and modify data efficiently, while also exploring the differences in performance between different data structures.\n",
    "\n",
    "By the end of this assignment, you will:\n",
    "- Use lists, sets, dictionaries, and objects effectively for different types of data.\n",
    "- Develop functions to manipulate these data structures.\n",
    "- Understand the performance characteristics of different data structures and their impact on code efficiency."
   ]
  },
  {
   "cell_type": "markdown",
   "id": "5f54153c",
   "metadata": {
    "id": "87ILVdo3Ewfk"
   },
   "source": [
    "**Guidelines:**\n",
    "> - Discussing concepts with classmates is fine, but **all code and answers must be your own**.\n",
    "- **Do not copy** code or answers from classmates, online sources, or generative tools. Plagiarism will result in a zero for this assignment and could lead to further disciplinary action.\n",
    "- Using external help beyond what's acceptable is not allowed.\n",
    "- While using generative tools is encouraged for exploring ideas, relying on them too much at this stage will hinder your learning process. Focus on building your foundational skills.\n",
    "- For any doubts or clarification, feel free to reach out during office hours, post on the course forum, or ask for help during the recitation.\n",
    "- Feel free to change the code to suit your needs. You may change functions, variables, docs, args, or whatever you need."
   ]
  },
  {
   "cell_type": "markdown",
   "id": "c6210c0c",
   "metadata": {
    "id": "OJLbsr71GuDS"
   },
   "source": [
    "**Submission:**\n",
    "> - Complete all exercises and download your Jupyter notebook as a `.ipynb` file:  \n",
    "  **File > Download > Download .ipynb**.\n",
    "- Download your `.py` files.\n",
    "- Upload the `.ipynb` & `.py` files to **Moodle** under the assignment submission link.\n",
    "- Submit the assignment by the due date listed on Moodle.\n",
    "- Late submissions may incur penalties according to the course policy.\n",
    "- The assignment is to be submitted in **pairs**."
   ]
  },
  {
   "cell_type": "markdown",
   "id": "b5a64a81",
   "metadata": {
    "id": "pPRfAoT4xo6W"
   },
   "source": [
    "**Hints and Suggestions**:\n",
    "\n",
    "- **Understand the Data Structure**: Always think about the structure that fits the problem best. For example:\n",
    "  - Use **sets** when you need a collection of unique items.\n",
    "  - Use **lists** when you need an ordered collection that allows duplicates.\n",
    "  - Use **dictionaries** when you need to map keys to values for quick lookups.\n",
    "\n",
    "- **Comment Your Code**: when needed add comments to explain what your code is doing.\n",
    "\n",
    "- **Test Continuously**: Write small portions of code and test frequently. This will help catch issues early and ensure your logic is sound before you proceed with the next steps.\n"
   ]
  },
  {
   "cell_type": "markdown",
   "id": "f6807d24",
   "metadata": {
    "id": "belB43e_w1oA"
   },
   "source": [
    "# Practice: Complete the Following Exercises"
   ]
  },
  {
   "cell_type": "markdown",
   "id": "87ba5715",
   "metadata": {
    "id": "Q3MlQLs2w9I3"
   },
   "source": [
    "- This is a practice section.\n",
    "- This section won't be graded."
   ]
  },
  {
   "cell_type": "markdown",
   "id": "1b398073",
   "metadata": {
    "id": "PYvTdkZuDlv9"
   },
   "source": [
    "### List Creation and Manipulation"
   ]
  },
  {
   "cell_type": "markdown",
   "id": "786094c6",
   "metadata": {
    "id": "SDNZCEybDv3l"
   },
   "source": [
    "Create a list of 5 student names.\n"
   ]
  },
  {
   "cell_type": "code",
   "execution_count": null,
   "id": "07ccd134",
   "metadata": {
    "id": "UsIgL9k5Dv9s"
   },
   "outputs": [],
   "source": [
    "my_list = None"
   ]
  },
  {
   "cell_type": "markdown",
   "id": "216dbb8c",
   "metadata": {
    "id": "6bq5LvPcDwDQ"
   },
   "source": [
    "Add two new names to the list."
   ]
  },
  {
   "cell_type": "code",
   "execution_count": null,
   "id": "0fbf5195",
   "metadata": {
    "id": "PIEubFwdDwIV"
   },
   "outputs": [],
   "source": []
  },
  {
   "cell_type": "markdown",
   "id": "463e7e02",
   "metadata": {
    "id": "ccBCkyh2DwOf"
   },
   "source": [
    "Remove one name from the list."
   ]
  },
  {
   "cell_type": "code",
   "execution_count": null,
   "id": "793763aa",
   "metadata": {
    "id": "QhX9N1xADwUM"
   },
   "outputs": [],
   "source": []
  },
  {
   "cell_type": "markdown",
   "id": "b30ac4f1",
   "metadata": {
    "id": "xJmEuC1oDwZy"
   },
   "source": [
    "Sort the list alphabetically."
   ]
  },
  {
   "cell_type": "code",
   "execution_count": null,
   "id": "831038f6",
   "metadata": {
    "id": "lv5Iv0icDwe3"
   },
   "outputs": [],
   "source": []
  },
  {
   "cell_type": "markdown",
   "id": "6b672e22",
   "metadata": {
    "id": "Se-3exapD4P3"
   },
   "source": [
    "Print the final list."
   ]
  },
  {
   "cell_type": "code",
   "execution_count": null,
   "id": "ff84f4fd",
   "metadata": {
    "id": "8UqSvIvRDl3D"
   },
   "outputs": [],
   "source": []
  },
  {
   "cell_type": "markdown",
   "id": "debe929a",
   "metadata": {
    "id": "nFnjmhK7Dl8y"
   },
   "source": [
    "### Set Creation and Manipulation"
   ]
  },
  {
   "cell_type": "markdown",
   "id": "701cbe78",
   "metadata": {
    "id": "naFSPDKeETVR"
   },
   "source": [
    "Create two sets\n",
    "- the first with numbers.\n",
    "- the second with strings."
   ]
  },
  {
   "cell_type": "code",
   "execution_count": null,
   "id": "80a4016b",
   "metadata": {
    "id": "i4kJDjF4ETa9"
   },
   "outputs": [],
   "source": []
  },
  {
   "cell_type": "markdown",
   "id": "3710be76",
   "metadata": {
    "id": "ddUDxPrXETfx"
   },
   "source": [
    "Add two new numbers to both sets.\n"
   ]
  },
  {
   "cell_type": "code",
   "execution_count": null,
   "id": "e79c2af5",
   "metadata": {
    "id": "BGyG7khiETkc"
   },
   "outputs": [],
   "source": []
  },
  {
   "cell_type": "markdown",
   "id": "e923598b",
   "metadata": {
    "id": "k2FwGevaETpR"
   },
   "source": [
    "Remove the first element from each set.\n"
   ]
  },
  {
   "cell_type": "code",
   "execution_count": null,
   "id": "a71c5a6c",
   "metadata": {
    "id": "Gz3VBupjEng1"
   },
   "outputs": [],
   "source": []
  },
  {
   "cell_type": "markdown",
   "id": "57273f90",
   "metadata": {
    "id": "_Iu3xxHCEZ2i"
   },
   "source": [
    "Perform union between both sets."
   ]
  },
  {
   "cell_type": "code",
   "execution_count": null,
   "id": "4b050b6e",
   "metadata": {
    "id": "QrBLJhgaFBFW"
   },
   "outputs": [],
   "source": []
  },
  {
   "cell_type": "markdown",
   "id": "6180b051",
   "metadata": {
    "id": "TQ--iqNlFBJ0"
   },
   "source": [
    "Perform intersection on both sets.\n"
   ]
  },
  {
   "cell_type": "code",
   "execution_count": null,
   "id": "6bf17ab3",
   "metadata": {
    "id": "OLLz1c6EDmBs"
   },
   "outputs": [],
   "source": []
  },
  {
   "cell_type": "markdown",
   "id": "4567495a",
   "metadata": {
    "id": "f6QLf-W3DmHM"
   },
   "source": [
    "Print all of the sets, and thier variations."
   ]
  },
  {
   "cell_type": "code",
   "execution_count": null,
   "id": "6466ed09",
   "metadata": {
    "id": "CagB6_lUDmOn"
   },
   "outputs": [],
   "source": []
  },
  {
   "cell_type": "markdown",
   "id": "299518fe",
   "metadata": {
    "id": "EPma9eReDja7"
   },
   "source": [
    "### Dictionary Creation and Manipulation"
   ]
  },
  {
   "cell_type": "markdown",
   "id": "bef2d12e",
   "metadata": {
    "id": "jiW-IjnKDjdP"
   },
   "source": [
    "Create a dictionary that maps 5 student names to their grades.\n"
   ]
  },
  {
   "cell_type": "code",
   "execution_count": null,
   "id": "2ef80b9a",
   "metadata": {
    "id": "PEY5wswCFV2d"
   },
   "outputs": [],
   "source": []
  },
  {
   "cell_type": "markdown",
   "id": "bb21d2c8",
   "metadata": {
    "id": "OFUtOR5fFV8c"
   },
   "source": [
    "Add a new student and their grade to the dict.\n"
   ]
  },
  {
   "cell_type": "code",
   "execution_count": null,
   "id": "ad6b139c",
   "metadata": {
    "id": "bNNnXVMPFWBQ"
   },
   "outputs": [],
   "source": []
  },
  {
   "cell_type": "markdown",
   "id": "5767389c",
   "metadata": {
    "id": "KgFNctqyFWGl"
   },
   "source": [
    "Update the grade of an existing student."
   ]
  },
  {
   "cell_type": "code",
   "execution_count": null,
   "id": "9f4320e9",
   "metadata": {
    "id": "z0FEKlEqFWLh"
   },
   "outputs": [],
   "source": []
  },
  {
   "cell_type": "markdown",
   "id": "01bdb9c3",
   "metadata": {
    "id": "dr3kwYTdFWQ3"
   },
   "source": [
    "Remove a student from the dictionary."
   ]
  },
  {
   "cell_type": "code",
   "execution_count": null,
   "id": "7f53cafa",
   "metadata": {
    "id": "ETscUgeYFWWe"
   },
   "outputs": [],
   "source": []
  },
  {
   "cell_type": "markdown",
   "id": "3ea09886",
   "metadata": {
    "id": "Gm_Ey1dwFgeL"
   },
   "source": [
    "Print the final dictionary.\n"
   ]
  },
  {
   "cell_type": "code",
   "execution_count": null,
   "id": "6c43c04c",
   "metadata": {
    "id": "F-O-NFjlFgib"
   },
   "outputs": [],
   "source": []
  },
  {
   "cell_type": "markdown",
   "id": "4d5de05c",
   "metadata": {
    "id": "-XaKKGAYF7-Q"
   },
   "source": [
    "### Class Creation and Usage\n"
   ]
  },
  {
   "cell_type": "markdown",
   "id": "5c40b73a",
   "metadata": {
    "id": "cRykaZfOGAnP"
   },
   "source": [
    "Define a class called `Student` with the following attributes:\n",
    "- `name`\n",
    "- `age`\n",
    "- `grade`"
   ]
  },
  {
   "cell_type": "code",
   "execution_count": null,
   "id": "42bf1da5",
   "metadata": {
    "id": "q6jrUoDRGAsp"
   },
   "outputs": [],
   "source": []
  },
  {
   "cell_type": "markdown",
   "id": "c4bfdcca",
   "metadata": {
    "id": "yEvJ1tdVGAyQ"
   },
   "source": [
    "Create 3 instances of the Student class."
   ]
  },
  {
   "cell_type": "code",
   "execution_count": null,
   "id": "2465ede2",
   "metadata": {
    "id": "ms9krkKdGA3E"
   },
   "outputs": [],
   "source": []
  },
  {
   "cell_type": "markdown",
   "id": "4cc91071",
   "metadata": {
    "id": "KXZqep_sGA8B"
   },
   "source": [
    "Update the grade of one student."
   ]
  },
  {
   "cell_type": "code",
   "execution_count": null,
   "id": "c140706d",
   "metadata": {
    "id": "rM87H4fiGBA8"
   },
   "outputs": [],
   "source": []
  },
  {
   "cell_type": "markdown",
   "id": "d17006e7",
   "metadata": {
    "id": "UVMkCUOcGBGc"
   },
   "source": [
    "Print the information of all students."
   ]
  },
  {
   "cell_type": "code",
   "execution_count": null,
   "id": "f3b51472",
   "metadata": {
    "id": "4BCBr_4jF8Gh"
   },
   "outputs": [],
   "source": []
  },
  {
   "cell_type": "markdown",
   "id": "d796f864",
   "metadata": {
    "id": "IrG3Cs37MUrO"
   },
   "source": [
    "### Performance Comparison - Lists, Sets, and Dictionaries\n",
    "\n",
    "Write three functions to compare the performance of a membership test for:\n",
    "  - A large list of 10K numbers.\n",
    "  - A large set of 10K million numbers.\n",
    "  - A large dictionary of 10K key-value pairs (keys & values are numbers).\n"
   ]
  },
  {
   "cell_type": "code",
   "execution_count": null,
   "id": "906d9899",
   "metadata": {
    "id": "TOmlGFiyMU0E"
   },
   "outputs": [],
   "source": []
  },
  {
   "cell_type": "markdown",
   "id": "8dad2976",
   "metadata": {
    "id": "AgKMF6J6MspC"
   },
   "source": [
    "Measure and print the time it takes for each function to check if a random number is present in the list, set, and dictionary using the `time` library.\n"
   ]
  },
  {
   "cell_type": "code",
   "execution_count": null,
   "id": "36bf926d",
   "metadata": {
    "id": "ZtjDwQPfMwLz"
   },
   "outputs": [],
   "source": []
  },
  {
   "cell_type": "markdown",
   "id": "bef8d35f",
   "metadata": {
    "id": "_YOdINFFMwQc"
   },
   "source": [
    "Provide a brief explanation of why certain data structures perform faster than others for membership testing.\n"
   ]
  },
  {
   "cell_type": "code",
   "execution_count": null,
   "id": "a80a26bc",
   "metadata": {
    "id": "HAVJY7bdMsK6"
   },
   "outputs": [],
   "source": [
    "# <your explanation here>"
   ]
  },
  {
   "cell_type": "markdown",
   "id": "2d0f96d5",
   "metadata": {
    "id": "jAcLvm5SDjfV"
   },
   "source": [
    "<br>\n",
    "<br>\n",
    "<br>\n",
    "\n",
    "---\n",
    "\n",
    "<br>\n",
    "<br>\n",
    "<br>\n",
    "\n"
   ]
  },
  {
   "cell_type": "markdown",
   "id": "04007543",
   "metadata": {
    "id": "egsEIAn3w2Sr"
   },
   "source": [
    "<br><br><br><br>\n",
    "\n",
    "\n",
    "# Complete the following exercises\n"
   ]
  },
  {
   "cell_type": "markdown",
   "id": "42293b0a",
   "metadata": {
    "id": "-cNLnZR8kaqL"
   },
   "source": [
    "prerequisites"
   ]
  },
  {
   "cell_type": "code",
   "execution_count": null,
   "id": "4b9a8d27",
   "metadata": {
    "colab": {
     "base_uri": "https://localhost:8080/"
    },
    "id": "ykPnYs6OkflQ",
    "outputId": "d157e862-8f05-4172-840d-d6ca88fcd2af"
   },
   "outputs": [
    {
     "name": "stdout",
     "output_type": "stream",
     "text": [
      "Collecting pyowm\n",
      "  Downloading pyowm-3.3.0-py3-none-any.whl.metadata (6.8 kB)\n",
      "Requirement already satisfied: requests<3,>=2.20.0 in /usr/local/lib/python3.10/dist-packages (from pyowm) (2.32.3)\n",
      "Collecting geojson<3,>=2.3.0 (from pyowm)\n",
      "  Downloading geojson-2.5.0-py2.py3-none-any.whl.metadata (15 kB)\n",
      "Requirement already satisfied: PySocks<2,>=1.7.1 in /usr/local/lib/python3.10/dist-packages (from pyowm) (1.7.1)\n",
      "Requirement already satisfied: charset-normalizer<4,>=2 in /usr/local/lib/python3.10/dist-packages (from requests<3,>=2.20.0->pyowm) (3.4.0)\n",
      "Requirement already satisfied: idna<4,>=2.5 in /usr/local/lib/python3.10/dist-packages (from requests<3,>=2.20.0->pyowm) (3.10)\n",
      "Requirement already satisfied: urllib3<3,>=1.21.1 in /usr/local/lib/python3.10/dist-packages (from requests<3,>=2.20.0->pyowm) (2.2.3)\n",
      "Requirement already satisfied: certifi>=2017.4.17 in /usr/local/lib/python3.10/dist-packages (from requests<3,>=2.20.0->pyowm) (2024.12.14)\n",
      "Downloading pyowm-3.3.0-py3-none-any.whl (4.5 MB)\n",
      "\u001b[2K   \u001b[90m━━━━━━━━━━━━━━━━━━━━━━━━━━━━━━━━━━━━━━━━\u001b[0m \u001b[32m4.5/4.5 MB\u001b[0m \u001b[31m33.2 MB/s\u001b[0m eta \u001b[36m0:00:00\u001b[0m\n",
      "\u001b[?25hDownloading geojson-2.5.0-py2.py3-none-any.whl (14 kB)\n",
      "Installing collected packages: geojson, pyowm\n",
      "Successfully installed geojson-2.5.0 pyowm-3.3.0\n"
     ]
    }
   ],
   "source": [
    "!pip install pyowm\n"
   ]
  },
  {
   "cell_type": "markdown",
   "id": "53cb8a54",
   "metadata": {
    "id": "yhFowcb7kfwu"
   },
   "source": [
    "imports"
   ]
  },
  {
   "cell_type": "code",
   "execution_count": null,
   "id": "807a7cfc",
   "metadata": {
    "id": "H2XhVQtUkf3_"
   },
   "outputs": [],
   "source": [
    "import os\n",
    "import time\n",
    "import random\n",
    "\n",
    "import json"
   ]
  },
  {
   "cell_type": "markdown",
   "id": "3031ffe2",
   "metadata": {
    "id": "61czkyxxNNyB"
   },
   "source": [
    "<br>\n",
    "\n",
    "---\n",
    "\n",
    "<br>\n",
    "\n"
   ]
  },
  {
   "cell_type": "markdown",
   "id": "2b95773e",
   "metadata": {
    "id": "iWBxdFerF4Wl"
   },
   "source": [
    "### Exercise 1: List and Set Conversion"
   ]
  },
  {
   "cell_type": "markdown",
   "id": "2a3d011e",
   "metadata": {
    "id": "uC3aDRF2G6yf"
   },
   "source": [
    "1. Create a list of numbers with some duplicates."
   ]
  },
  {
   "cell_type": "code",
   "execution_count": null,
   "id": "be7eaa3b",
   "metadata": {
    "colab": {
     "base_uri": "https://localhost:8080/"
    },
    "id": "thyoT_2jG63o",
    "outputId": "451da1da-0f1f-4f54-e0c1-9b7f697f2e81"
   },
   "outputs": [
    {
     "name": "stdout",
     "output_type": "stream",
     "text": [
      "[1, 2, 3, 4, 2, 5, 6, 3, 8, 1, 9, 3, 4, 2, 5, 6, 7, 1, 3, 2, 4, 5]\n"
     ]
    }
   ],
   "source": [
    "#\n",
    "first_list = [1,2,3,4,2,5,6,3,8,1,9,3,4,2,5,6,7,1,3,2,4,5]\n",
    "print(first_list)"
   ]
  },
  {
   "cell_type": "markdown",
   "id": "d846f3bc",
   "metadata": {
    "id": "iT3cMoFVG68k"
   },
   "source": [
    "2. Convert the list into a set to remove duplicates."
   ]
  },
  {
   "cell_type": "code",
   "execution_count": null,
   "id": "89595abe",
   "metadata": {
    "colab": {
     "base_uri": "https://localhost:8080/"
    },
    "id": "0mimS_EUG7BY",
    "outputId": "6b68e196-4776-4ae1-d29e-fd86f2e3760f"
   },
   "outputs": [
    {
     "name": "stdout",
     "output_type": "stream",
     "text": [
      "{1, 2, 3, 4, 5, 6, 7, 8, 9}\n"
     ]
    }
   ],
   "source": [
    "# <TODO>\n",
    "my_set = set(first_list)\n",
    "print(my_set)"
   ]
  },
  {
   "cell_type": "markdown",
   "id": "e6c1aeef",
   "metadata": {
    "id": "F3k4xKm3G7Gd"
   },
   "source": [
    "3. Convert the set back into a list."
   ]
  },
  {
   "cell_type": "code",
   "execution_count": null,
   "id": "6ee5dfdf",
   "metadata": {
    "colab": {
     "base_uri": "https://localhost:8080/"
    },
    "id": "usR6E36lG7La",
    "outputId": "1ea759bd-64d7-4e91-ed39-dbc96e7a1a7d"
   },
   "outputs": [
    {
     "name": "stdout",
     "output_type": "stream",
     "text": [
      "[1, 2, 3, 4, 5, 6, 7, 8, 9]\n"
     ]
    }
   ],
   "source": [
    "# <TODO>\n",
    "second_list = list(my_set)\n",
    "print(second_list)"
   ]
  },
  {
   "cell_type": "markdown",
   "id": "f1f0b317",
   "metadata": {
    "id": "4QCJRKZdHAGJ"
   },
   "source": [
    "4. Print the final list, ensuring all duplicates have been removed."
   ]
  },
  {
   "cell_type": "code",
   "execution_count": null,
   "id": "c239042a",
   "metadata": {
    "colab": {
     "base_uri": "https://localhost:8080/"
    },
    "id": "_aUXSVwjF4bv",
    "outputId": "84eaf02a-3ea1-4fa7-aa73-eacea30d9a71"
   },
   "outputs": [
    {
     "name": "stdout",
     "output_type": "stream",
     "text": [
      "[1, 2, 3, 4, 5, 6, 7, 8, 9]\n"
     ]
    }
   ],
   "source": [
    "final_list = second_list\n",
    "print(final_list)"
   ]
  },
  {
   "cell_type": "markdown",
   "id": "6dfc772b",
   "metadata": {
    "id": "rO5lHMuyNMZB"
   },
   "source": [
    "<br>\n",
    "\n",
    "---\n",
    "\n",
    "<br>\n",
    "\n"
   ]
  },
  {
   "cell_type": "markdown",
   "id": "d54ede59",
   "metadata": {
    "id": "V1a2Z_7sF4hv"
   },
   "source": [
    "### Exercise 2: Using Built-in Functions on Data Structures\n",
    "\n",
    "Using built-in functions like `max()`, `min()`, `len()`, and `sum()`, perform the following tasks.\n",
    "\n"
   ]
  },
  {
   "cell_type": "markdown",
   "id": "a586ad1f",
   "metadata": {
    "id": "opBG-e71HFMN"
   },
   "source": [
    "1. Create a list of numbers and print the maximum, minimum, and sum of the list."
   ]
  },
  {
   "cell_type": "code",
   "execution_count": null,
   "id": "a291b314",
   "metadata": {
    "colab": {
     "base_uri": "https://localhost:8080/"
    },
    "id": "BlPYctHMF4mi",
    "outputId": "9d13a52b-0f82-48c0-db32-6b2b270e5ab6"
   },
   "outputs": [
    {
     "name": "stdout",
     "output_type": "stream",
     "text": [
      "[1, 2, 3, 4, 5, 6, 7, 8, 9]\n",
      "9\n",
      "1\n",
      "9\n",
      "45\n"
     ]
    }
   ],
   "source": [
    "print(final_list)\n",
    "print(max(final_list))\n",
    "print(min(final_list))\n",
    "print(len(final_list))\n",
    "print(sum(final_list))"
   ]
  },
  {
   "cell_type": "markdown",
   "id": "740a309c",
   "metadata": {
    "id": "0xTTsNfkF4sK"
   },
   "source": [
    "2. Create a dictionary of student names and grades, then print the highest and lowest grades."
   ]
  },
  {
   "cell_type": "code",
   "execution_count": null,
   "id": "67f568ec",
   "metadata": {
    "colab": {
     "base_uri": "https://localhost:8080/"
    },
    "id": "C8YUrmypF44p",
    "outputId": "62ed7f2d-d674-42e9-b70e-4225dfcb4180"
   },
   "outputs": [
    {
     "name": "stdout",
     "output_type": "stream",
     "text": [
      "100\n",
      "68\n"
     ]
    }
   ],
   "source": [
    "grades = {\"Alice\": 85, \"Josef\" : 96, \"Reut\" : 79, \"Elor\" : 68, \"Yuval\" : 84, \"Reef\" : 100, \"Dana\" : 98}\n",
    "\n",
    "print(max(grades.values()))\n",
    "print(min(grades.values()))"
   ]
  },
  {
   "cell_type": "markdown",
   "id": "db4adf25",
   "metadata": {
    "id": "kiI_5Dj_F49f"
   },
   "source": [
    "3. Create a set of unique numbers and find the total sum and number of elements using `len()`."
   ]
  },
  {
   "cell_type": "code",
   "execution_count": null,
   "id": "5195de2f",
   "metadata": {
    "colab": {
     "base_uri": "https://localhost:8080/"
    },
    "id": "v0G3cp_TF5CR",
    "outputId": "ca706102-bb8e-4c85-bd88-94ed9b5a100d"
   },
   "outputs": [
    {
     "name": "stdout",
     "output_type": "stream",
     "text": [
      "16665\n",
      "10\n"
     ]
    }
   ],
   "source": [
    "set_one = {232,637,589,456,12324,98,543,546,342,898}\n",
    "print(sum(set_one))\n",
    "print(len(set_one))"
   ]
  },
  {
   "cell_type": "markdown",
   "id": "ce9623bb",
   "metadata": {
    "id": "sHee6om_NLg9"
   },
   "source": [
    "<br>\n",
    "\n",
    "---\n",
    "\n",
    "<br>\n",
    "\n"
   ]
  },
  {
   "cell_type": "markdown",
   "id": "4f2be928",
   "metadata": {
    "id": "qhltqM-pHVtv"
   },
   "source": [
    "### Exercise 3: Advanced List Operations"
   ]
  },
  {
   "cell_type": "markdown",
   "id": "b5f8ca54",
   "metadata": {
    "id": "uHwIUXltHV_i"
   },
   "source": [
    "1. **Rotate List**: Write a function that rotates a list by a given number of positions to the right.   \n",
    "For example, rotating `[1, 2, 3, 4, 5]` by 2 positions would result in `[4, 5, 1, 2, 3]`.\n"
   ]
  },
  {
   "cell_type": "code",
   "execution_count": null,
   "id": "1740f00e",
   "metadata": {
    "colab": {
     "base_uri": "https://localhost:8080/"
    },
    "id": "INHTGLAsH8Qj",
    "outputId": "966e6476-4bde-4bc7-c3a6-99a935806efb"
   },
   "outputs": [
    {
     "name": "stdout",
     "output_type": "stream",
     "text": [
      "[2, 3, 4, 5, 1]\n"
     ]
    }
   ],
   "source": [
    "def rotate_list(lst,n=1):\n",
    "  # <TODO>\n",
    "  return lst [-n:] +  lst[:-n]\n",
    "\n",
    "print(rotate_list([1,2,3,4,5], 4))\n",
    "\n"
   ]
  },
  {
   "cell_type": "markdown",
   "id": "63d6e889",
   "metadata": {
    "id": "Rg76F-IlJdXC"
   },
   "source": [
    "Herea re a few examples of tests to make sure your function works well.\n",
    "Think of these kind of tests in future functions, and feel free to add them to your code."
   ]
  },
  {
   "cell_type": "code",
   "execution_count": null,
   "id": "b267844f",
   "metadata": {
    "id": "mfgvsGyRIY7F"
   },
   "outputs": [],
   "source": [
    "# test\n",
    "lst1 = [1, 2, 3, 4, 5]\n",
    "lst2 = [4, 5, 1, 2, 3]\n",
    "lst3 = rotate_list(lst1, n=2)\n",
    "assert lst2 == lst3"
   ]
  },
  {
   "cell_type": "code",
   "execution_count": null,
   "id": "3a8058eb",
   "metadata": {
    "id": "9bU-rpTVI2GS"
   },
   "outputs": [],
   "source": [
    "# test\n",
    "lst1 = []\n",
    "lst2 = []\n",
    "lst3 = rotate_list(lst1,n=100)\n",
    "assert lst2 == lst3"
   ]
  },
  {
   "cell_type": "code",
   "execution_count": null,
   "id": "e2412688",
   "metadata": {
    "id": "sAF_D52HI8a8"
   },
   "outputs": [],
   "source": [
    "# test\n",
    "lst1 = [1]\n",
    "lst2 = [1]\n",
    "lst3 = rotate_list(lst1,n=42)\n",
    "assert lst2 == lst3"
   ]
  },
  {
   "cell_type": "code",
   "execution_count": null,
   "id": "c3c24213",
   "metadata": {
    "id": "jajSqq2fI_eI"
   },
   "outputs": [],
   "source": [
    "# test\n",
    "lst1 = ['a',2,'c']\n",
    "lst2 = lst1\n",
    "lst3 = rotate_list(lst1, n=len(lst1))\n",
    "assert lst2 == lst3"
   ]
  },
  {
   "cell_type": "markdown",
   "id": "cd635bda",
   "metadata": {
    "id": "2npcTm7-HiCe"
   },
   "source": [
    "2. **Remove Duplicates**: Write another function that removes all duplicates from a list while preserving the original order of elements.\n",
    "For example, `[6, 1, 2, 3, 4, 5, 1, 5, 7, 8, 1]` --> `[6, 1, 2, 3, 4, 5, 7, 8]`."
   ]
  },
  {
   "cell_type": "code",
   "execution_count": null,
   "id": "83a3d148",
   "metadata": {
    "colab": {
     "base_uri": "https://localhost:8080/"
    },
    "id": "VYdh5QMAH8lt",
    "outputId": "dc7c7cef-6a65-4f65-e21c-89bff6b3c063"
   },
   "outputs": [
    {
     "name": "stdout",
     "output_type": "stream",
     "text": [
      "[6, 1, 2, 3, 4, 5, 7, 8]\n"
     ]
    }
   ],
   "source": [
    "def remove_duplicates(lst):\n",
    "    seen = set()\n",
    "    result = []\n",
    "    for item in lst:\n",
    "        if item not in seen:\n",
    "            result.append(item)\n",
    "            seen.add(item)\n",
    "    return result\n",
    "\n",
    "lst = [6, 1, 2, 3, 4, 5, 1, 5, 7, 8, 1]\n",
    "print(remove_duplicates(lst))"
   ]
  },
  {
   "cell_type": "markdown",
   "id": "72dec04a",
   "metadata": {
    "id": "yVAtDssgHiQa"
   },
   "source": [
    "3. **Investment Calculator**: Write a function that calculates the future value of an investment. The function should:\n",
    "  - Take three inputs: an initial investment amount, an annual interest rate (as a percentage), and a number of years.\n",
    "  - Store the future value of the investment for each year in a list, where each entry in the list represents the value at the end of that year.\n",
    "  - Return the list of yearly investment values and print the final investment value after the given number of years.\n",
    "\n",
    "Examples: `investment_calculator(100, 0.05, 1)` --> `[100,105]`\n",
    "\n"
   ]
  },
  {
   "cell_type": "code",
   "execution_count": null,
   "id": "a6e6e1d4",
   "metadata": {
    "colab": {
     "base_uri": "https://localhost:8080/"
    },
    "id": "1a1bYaU2IC0j",
    "outputId": "99df500d-16ab-4571-ac6c-4102111fdaf4"
   },
   "outputs": [
    {
     "name": "stdout",
     "output_type": "stream",
     "text": [
      "Enter the investment amount: 3350000\n",
      "Enter interest rate in percents): 2.5\n",
      "Enter the number of years: 10\n",
      "The final investment value after 10 years is: 4288283.22\n",
      "\n",
      "Yearly investment values:\n",
      "Year 1: 3433750.00\n",
      "Year 2: 3519593.75\n",
      "Year 3: 3607583.59\n",
      "Year 4: 3697773.18\n",
      "Year 5: 3790217.51\n",
      "Year 6: 3884972.95\n",
      "Year 7: 3982097.27\n",
      "Year 8: 4081649.71\n",
      "Year 9: 4183690.95\n",
      "Year 10: 4288283.22\n"
     ]
    }
   ],
   "source": [
    "def investment_calculator(amount, rate, years):\n",
    "    yearly_values = []\n",
    "    for year in range(1, years + 1):\n",
    "        future_value = amount * (1 + rate) ** year\n",
    "        yearly_values.append(future_value)\n",
    "\n",
    "    return yearly_values\n",
    "\n",
    "\n",
    "first_amount = float(input(\"Enter the investment amount: \"))\n",
    "rate = float(input(\"Enter interest rate in percents): \")) / 100\n",
    "years = int(input(\"Enter the number of years: \"))\n",
    "\n",
    "yearly_investment_values = investment_calculator(first_amount, rate, years)\n",
    "\n",
    "\n",
    "print(f\"The final investment value after {years} years is: {yearly_investment_values[-1]:.2f}\")\n",
    "\n",
    "print(\"\\nYearly investment values:\")\n",
    "for i, value in enumerate(yearly_investment_values, start=1):\n",
    "    print(f\"Year {i}: {value:.2f}\")\n"
   ]
  },
  {
   "cell_type": "markdown",
   "id": "d6dbb474",
   "metadata": {
    "id": "DVTHeXMrNKc-"
   },
   "source": [
    "<br>\n",
    "\n",
    "---\n",
    "\n",
    "<br>\n",
    "\n"
   ]
  },
  {
   "cell_type": "markdown",
   "id": "00b84398",
   "metadata": {
    "id": "f5xz_X2vKjai"
   },
   "source": [
    "### Exercise 4: Dictionary Operations"
   ]
  },
  {
   "cell_type": "markdown",
   "id": "166a0e07",
   "metadata": {
    "id": "N5k29h0QKr7F"
   },
   "source": [
    "**Merge Dictionaries**: Write a function that merges two dictionaries. If both dictionaries contain the same key, sum their values.\n"
   ]
  },
  {
   "cell_type": "code",
   "execution_count": null,
   "id": "d347af0d",
   "metadata": {
    "id": "w9VzvuhKKl4a"
   },
   "outputs": [],
   "source": [
    "def merge_two_dicts(d1, d2):\n",
    "    merged_dict = d1.copy()\n",
    "\n",
    "\n",
    "    for key, value in d2.items():\n",
    "        if key in merged_dict:\n",
    "            merged_dict[key] += value\n",
    "        else:\n",
    "            merged_dict[key] = value\n",
    "\n",
    "    return merged_dict\n",
    "\n",
    "d1 = {'a': 10, 'b': 20, 'c': 30}\n",
    "d2 = {'b': 5, 'c': 10, 'd': 15}\n",
    "\n",
    "expected_result = {'a': 10, 'b': 25, 'c': 40, 'd': 15}\n",
    "\n",
    "assert merge_two_dicts(d1, d2) == expected_result\n",
    "\n"
   ]
  },
  {
   "cell_type": "markdown",
   "id": "129e7064",
   "metadata": {
    "id": "ZdN2Jzn7K192"
   },
   "source": [
    "**Filter Dictionary**: Write another function to filter the resulting dictionary by removing entries where the value is below a certain threshold.\n"
   ]
  },
  {
   "cell_type": "code",
   "execution_count": null,
   "id": "796c10fa",
   "metadata": {
    "colab": {
     "base_uri": "https://localhost:8080/"
    },
    "id": "j5WAryPiK2DD",
    "outputId": "78264c05-814e-4c2e-fea4-963d2538a22e"
   },
   "outputs": [
    {
     "name": "stdout",
     "output_type": "stream",
     "text": [
      "Test passed!\n"
     ]
    }
   ],
   "source": [
    "def filter_dict(d,threshold=0):\n",
    "  # <TODO>\n",
    "  return {key: value for key, value in d.items() if value >= threshold}\n",
    "\n",
    "d = {'a': 10, 'b': -5, 'c': 20, 'd': 0}\n",
    "threshold = 0\n",
    "expected_result = {'a': 10, 'c': 20, 'd': 0}\n",
    "\n",
    "\n",
    "assert filter_dict(d, threshold) == expected_result"
   ]
  },
  {
   "cell_type": "markdown",
   "id": "c4668a20",
   "metadata": {
    "id": "VZu_LTRPNEtp"
   },
   "source": [
    "<br>\n",
    "\n",
    "---\n",
    "\n",
    "<br>\n",
    "\n"
   ]
  },
  {
   "cell_type": "markdown",
   "id": "af9d6ad8",
   "metadata": {
    "id": "7RUfhP9PICOc"
   },
   "source": [
    "### Exercise 5: Class with Attributes - Library Book Management\n",
    "\n",
    "**Part 1**: Define a `Book` class with the following attributes:\n",
    "  - `title` (string)\n",
    "  - `author` (string)\n",
    "  - `is_checked_out` (boolean, default `False`)\n",
    "  - `review_list` (list, default empty list)\n",
    "\n"
   ]
  },
  {
   "cell_type": "code",
   "execution_count": null,
   "id": "d91687ce",
   "metadata": {
    "id": "gJrGlMm8LOBA"
   },
   "outputs": [],
   "source": [
    "class Book:\n",
    "    def __init__(self, title, author):\n",
    "        self.title = title\n",
    "        self.author = author\n",
    "        self.is_checked_out = False\n",
    "        self.review_list = []\n",
    "\n",
    "    def check_out(self):\n",
    "        self.is_checked_out = True\n",
    "\n",
    "    def return_book(self):\n",
    "        self.is_checked_out = False\n",
    "\n",
    "    def add_review(self, review):\n",
    "        self.review_list.append(review)\n",
    "\n",
    "    def print_details(self):\n",
    "        print(f\"Title: {self.title}\")\n",
    "        print(f\"Author: {self.author}\")\n",
    "        print(f\"Checked out: {self.is_checked_out}\")\n",
    "        print(f\"Reviews: {', '.join(self.review_list) if self.review_list else 'No reviews yet.'}\")\n",
    "        print(\"------\")\n"
   ]
  },
  {
   "cell_type": "markdown",
   "id": "37fb1127",
   "metadata": {
    "id": "R6pLLYrILOFg"
   },
   "source": [
    "**Part 2**: Create three instances of the `Book` class and perform the following.\n"
   ]
  },
  {
   "cell_type": "code",
   "execution_count": null,
   "id": "e95f0e61",
   "metadata": {
    "colab": {
     "base_uri": "https://localhost:8080/"
    },
    "id": "WJD3qzQPLiPE",
    "outputId": "dd1cd493-f4da-4423-ff8e-70ea78d5b4ba"
   },
   "outputs": [
    {
     "name": "stdout",
     "output_type": "stream",
     "text": [
      "Title: The Great Gatsby\n",
      "Author: F. Scott Fitzgerald\n",
      "Checked out: True\n",
      "Reviews: No reviews yet.\n",
      "------\n",
      "Title: 1984\n",
      "Author: George Orwell\n",
      "Checked out: False\n",
      "Reviews: A thought-provoking novel.\n",
      "------\n",
      "Title: To Kill a Mockingbird\n",
      "Author: Harper Lee\n",
      "Checked out: False\n",
      "Reviews: A masterpiece of modern American literature., Timeless and powerful.\n",
      "------\n"
     ]
    }
   ],
   "source": [
    "book1 = Book(\"The Great Gatsby\", \"F. Scott Fitzgerald\")\n",
    "book2 = Book(\"1984\", \"George Orwell\")\n",
    "book3 = Book(\"To Kill a Mockingbird\", \"Harper Lee\")\n",
    "\n",
    "book1.check_out()\n",
    "book2.add_review(\"A thought-provoking novel.\")\n",
    "book3.add_review(\"A masterpiece of modern American literature.\")\n",
    "book3.add_review(\"Timeless and powerful.\")\n",
    "\n",
    "book1.print_details()\n",
    "book2.print_details()\n",
    "book3.print_details()\n"
   ]
  },
  {
   "cell_type": "markdown",
   "id": "735908bc",
   "metadata": {
    "id": "JxZllc5ELZki"
   },
   "source": [
    "Check out one book by setting its `is_checked_out` attribute to `True`."
   ]
  },
  {
   "cell_type": "code",
   "execution_count": null,
   "id": "47de1bc5",
   "metadata": {
    "colab": {
     "base_uri": "https://localhost:8080/"
    },
    "id": "4eoR0AB5LZpm",
    "outputId": "7808d5b9-f5c9-49b4-cf8e-883027ee4f27"
   },
   "outputs": [
    {
     "name": "stdout",
     "output_type": "stream",
     "text": [
      "Title: The Great Gatsby\n",
      "Author: F. Scott Fitzgerald\n",
      "Checked out: True\n",
      "Reviews: No reviews yet.\n",
      "------\n"
     ]
    }
   ],
   "source": [
    "book1.check_out()\n",
    "book1.print_details()"
   ]
  },
  {
   "cell_type": "markdown",
   "id": "f8ad744d",
   "metadata": {
    "id": "CtuX4JDiLZuS"
   },
   "source": [
    "Return another book by setting its `is_checked_out` attribute to `False`."
   ]
  },
  {
   "cell_type": "code",
   "execution_count": null,
   "id": "2cd0d8a7",
   "metadata": {
    "colab": {
     "base_uri": "https://localhost:8080/"
    },
    "id": "DCitFPRxLZys",
    "outputId": "eea202ad-60cf-40f2-8e7d-5a01150975ee"
   },
   "outputs": [
    {
     "name": "stdout",
     "output_type": "stream",
     "text": [
      "Title: 1984\n",
      "Author: George Orwell\n",
      "Checked out: False\n",
      "Reviews: A thought-provoking novel.\n",
      "------\n"
     ]
    }
   ],
   "source": [
    "book2.return_book()\n",
    "book2.print_details()"
   ]
  },
  {
   "cell_type": "markdown",
   "id": "537c6313",
   "metadata": {
    "id": "DEdOJoSZLZ4U"
   },
   "source": [
    "Add reviews (strings) to one of the books' `review_list` attribute and print them.\n"
   ]
  },
  {
   "cell_type": "code",
   "execution_count": null,
   "id": "902333fa",
   "metadata": {
    "colab": {
     "base_uri": "https://localhost:8080/"
    },
    "id": "mhIZ0KItLPak",
    "outputId": "a978ddef-b39b-414d-9a62-bfc43648a941"
   },
   "outputs": [
    {
     "name": "stdout",
     "output_type": "stream",
     "text": [
      "Title: To Kill a Mockingbird\n",
      "Author: Harper Lee\n",
      "Checked out: False\n",
      "Reviews: A masterpiece of modern American literature., Timeless and powerful., A timeless classic., Incredible storytelling.\n",
      "------\n"
     ]
    }
   ],
   "source": [
    "book3.add_review(\"A timeless classic.\")\n",
    "book3.add_review(\"Incredible storytelling.\")\n",
    "book3.print_details()"
   ]
  },
  {
   "cell_type": "markdown",
   "id": "392e808b",
   "metadata": {
    "id": "uYAqR7YQLPec"
   },
   "source": [
    "**Part 3**: Create a dictionary called `library_catalog` where each key is the title of a book, and each value is a corresponding `Book` object."
   ]
  },
  {
   "cell_type": "code",
   "execution_count": null,
   "id": "83915e35",
   "metadata": {
    "id": "ZFsd4hExLtvB"
   },
   "outputs": [],
   "source": [
    "library_catalog = {\n",
    "    book1.title: book1,\n",
    "    book2.title: book2,\n",
    "    book3.title: book3\n",
    "}\n"
   ]
  },
  {
   "cell_type": "markdown",
   "id": "f96b0f78",
   "metadata": {
    "id": "ennrOHIELt1T"
   },
   "source": [
    "Write function to find a book by its title in the `library_catalog`."
   ]
  },
  {
   "cell_type": "code",
   "execution_count": null,
   "id": "4cb5e936",
   "metadata": {
    "id": "-tfAkisKLt5-"
   },
   "outputs": [],
   "source": [
    "def find_book_by_title(title):\n",
    "    if title in library_catalog:\n",
    "        return library_catalog[title]\n",
    "    else:\n",
    "        return None\n"
   ]
  },
  {
   "cell_type": "markdown",
   "id": "1917b280",
   "metadata": {
    "id": "94l3FV7QLt-J"
   },
   "source": [
    "Write function to check out multiple books (by title) at once."
   ]
  },
  {
   "cell_type": "code",
   "execution_count": null,
   "id": "7d9d8ebf",
   "metadata": {
    "id": "1ZDkjHY-LuCK"
   },
   "outputs": [],
   "source": [
    "def checkout_books_by_title(titles):\n",
    "    for title in titles:\n",
    "        book = find_book_by_title(title)\n",
    "        if book:\n",
    "            book.check_out()\n"
   ]
  },
  {
   "cell_type": "markdown",
   "id": "c49add38",
   "metadata": {
    "id": "8AjmM0P6LGgp"
   },
   "source": [
    "Write function to display the entire catalog, including reviews and check-out status."
   ]
  },
  {
   "cell_type": "code",
   "execution_count": null,
   "id": "21b6f1c4",
   "metadata": {
    "id": "lDprKs-dL4rK"
   },
   "outputs": [],
   "source": [
    "def display_books():\n",
    "    for book in library_catalog.values():\n",
    "        book.print_details()\n"
   ]
  },
  {
   "cell_type": "markdown",
   "id": "f3e46897",
   "metadata": {
    "id": "cUj4_NcREtIM"
   },
   "source": [
    "\n",
    "\n",
    "---\n",
    "\n"
   ]
  },
  {
   "cell_type": "markdown",
   "id": "24e87b3f",
   "metadata": {
    "id": "nWzzs9dg4sz9"
   },
   "source": [
    "### Exercise 6: TLV Weather Management System\n",
    "\n",
    "In this exercise, you will practice working with files, JSON, and modules while interacting with real-world data. You will create a weather utility module using the pyowm library to fetch weather data for specific cities. The program will involve class initialization, saving/loading data to/from files, and managing user interaction via a simple menu.\n",
    "\n",
    "**Overview:**\n",
    "1. Create a helper module.\n",
    "2. Create a menu on the main program."
   ]
  },
  {
   "cell_type": "markdown",
   "id": "eab4671e",
   "metadata": {
    "id": "NOHXLO_QGyFl"
   },
   "source": [
    "#### **Part 1: Create a Weather Utility Module - `weather_utils.py`**\n",
    "\n",
    "1. **Install Required Package**:  \n",
    "   - Use `pip install pyowm` to install the OpenWeatherMap Python library.\n",
    "   - Get the needed API; instructions are in docs.\n",
    "   - You may use JSON package.\n",
    "\n",
    "2. **Define the Class `WeatherDataManager`**:  \n",
    "   - Write a class `WeatherDataManager` with the following **attributes**:\n",
    "     - `api_key`: set the default to your API key.  \n",
    "     - `file_name_tlv`\n",
    "     - `file_name_nyc`\n",
    "     - `file_name_rome`\n",
    "\n",
    "\n",
    "3. **Class Functionalities**:  \n",
    "   Add the following functions to the class:  \n",
    "\n",
    "   - **Fetch and Save Weather Data**:  \n",
    "     - Fetch the current weather for a given city using `pyowm`.  \n",
    "     - Save the weather data (temperature temp in celsius, humidity, wind speed) to a file named `weather_<city>.txt` or `weather_<city>.json`.\n",
    "\n",
    "   - **Load Weather Data**:  \n",
    "     - Read & return weather data from a specified file.  \n",
    "\n",
    "   - **Calculate Average Temperature**:  \n",
    "     - Load weather data from multiple saved files (e.g., for Tel Aviv, London, and Rome).  \n",
    "     - Calculate and display the average temperature across all the files.\n",
    "\n",
    "   - **Clear Weather Files**:  \n",
    "     - Delete all saved weather data files.\n"
   ]
  },
  {
   "cell_type": "markdown",
   "id": "c7b03d0b",
   "metadata": {
    "id": "hMlBA6XJMmao"
   },
   "source": [
    "#### **Part 2: Menu**\n",
    "\n",
    "1. **Import the Weather Utility Module**:  \n",
    "   Import the `WeatherDataManager` class from the `weather_utils` module.\n",
    "\n",
    "2. **Initialize the Class**:  \n",
    "   Create an instance of the `WeatherDataManager`.\n",
    "\n",
    "3. **Design an Interactive Menu**:  \n",
    "   Build a simple menu-driven interface to interact with the user. The menu should include the following options:\n",
    "   \n",
    "  1. Display Weather Data for Tel Aviv.\n",
    "    > Behind the scenes:\n",
    "    > - Fetch the current weather in Tel Aviv using the `pyowm` API.  \n",
    "    > - Save the data in a file named `weather_tlv.json`.  \n",
    "    > - Return the data to the main program.\n",
    "    > - print the data in menu.\n",
    "\n",
    "  2. Display Weather Data for London.\n",
    "  3. Display Weather Data for Rome.  \n",
    "\n",
    "  4. Calculate Average Temperature Across Cities.  \n",
    "    - Load weather data from avilable/existing files.  \n",
    "    - Calculate and return the **avg temperature, avg humidity, avg wind speed**.\n",
    "    - Display those to the user.\n",
    "\n",
    "  5. **Clear All Saved Weather Files**:  \n",
    "    - Delete all files containing weather data.  \n",
    "    - Confirm to the user that the files have been cleared.\n",
    "\n",
    "  6. **Exit**:  \n",
    "    - Exit the program with a friendly message.\n"
   ]
  },
  {
   "cell_type": "markdown",
   "id": "461c4d9f",
   "metadata": {
    "id": "1QqyYuPKRfZ_"
   },
   "source": [
    "Example:\n",
    "```\n",
    "Welcome to the Weather Data Manager!\n",
    "\n",
    "Please choose an option:\n",
    "1. Display weather for Tel Aviv.\n",
    "2. Display weather for London.\n",
    "3. Display weather for Rome.\n",
    "4. Display average temperature across cities I asked about.\n",
    "5. Clear all saved weather files\n",
    "6. Exit\n",
    "Your choice: 1\n",
    "\n",
    "Fetching weather data... Done!  \n",
    "Tel Aviv Weather:  \n",
    "- Temperature: 27°C  \n",
    "- Humidity: 65%  \n",
    "- Wind Speed: 10 km/h  \n",
    "\n",
    "\n",
    "Please choose an option:\n",
    "1. Display weather for Tel Aviv.\n",
    "2. Display weather for London.\n",
    "3. Display weather for Rome.\n",
    "4. Display average temperature across cities I asked about.\n",
    "5. Clear all saved weather files\n",
    "6. Exit\n",
    "Your choice: 2\n",
    "\n",
    "Fetching weather data... Done!  \n",
    "London Weather:  \n",
    "- Temperature: 15°C  \n",
    "- Humidity: 80%  \n",
    "- Wind Speed: 11 km/h  \n",
    "\n",
    "\n",
    "Please choose an option:\n",
    "1. Display weather for Tel Aviv.\n",
    "2. Display weather for London.\n",
    "3. Display weather for Rome.\n",
    "4. Display average temperature across cities I asked about.\n",
    "5. Clear all saved weather files\n",
    "6. Exit\n",
    "Your choice: 4\n",
    "\n",
    "Loading weather for 2 available cities... Done!  \n",
    "Average Weather Across Cities:  \n",
    "- Temperature: 21°C  \n",
    "- Humidity: 72.5%  \n",
    "- Wind Speed: 10.5 km/h  \n",
    "\n",
    "\n",
    "Please choose an option:\n",
    "1. Display weather for Tel Aviv.\n",
    "2. Display weather for London.\n",
    "3. Display weather for Rome.\n",
    "4. Display average temperature across cities I asked about.\n",
    "5. Clear all saved weather files\n",
    "6. Exit\n",
    "Your choice: 5\n",
    "\n",
    "Clearing all saved files... Done!  \n",
    "\n",
    "\n",
    "Please choose an option:\n",
    "1. Display weather for Tel Aviv.\n",
    "2. Display weather for London.\n",
    "3. Display weather for Rome.\n",
    "4. Display average temperature across cities I asked about.\n",
    "5. Clear all saved weather files\n",
    "6. Exit\n",
    "Your choice: 4\n",
    "\n",
    "Loading weather for 0 available cities... Done!  \n",
    "No data available.\n",
    "\n",
    "\n",
    "Please choose an option:\n",
    "1. Display weather for Tel Aviv.\n",
    "2. Display weather for London.\n",
    "3. Display weather for Rome.\n",
    "4. Display average temperature across cities I asked about.\n",
    "5. Clear all saved weather files\n",
    "6. Exit\n",
    "Your choice: 6\n",
    "\n",
    "Goodbye! Thank you for using the Weather Data Manager!\n",
    "```\n",
    "\n",
    "Note: You can assume the inputs are valid.  \n",
    "Bonus: Use exceptions to deal with invalid inputs from the user."
   ]
  },
  {
   "cell_type": "code",
   "execution_count": null,
   "id": "f1ce9bcf",
   "metadata": {
    "colab": {
     "base_uri": "https://localhost:8080/"
    },
    "id": "tWGvFXiZFqjl",
    "outputId": "3aff7081-fe34-4028-c55e-e73e5317dad6"
   },
   "outputs": [
    {
     "name": "stdout",
     "output_type": "stream",
     "text": [
      "Writing weather_utils.py\n"
     ]
    }
   ],
   "source": [
    "%%writefile weather_utils.py\n",
    "import pyowm\n",
    "import json\n",
    "import os\n",
    "\n",
    "class WeatherDataManager:\n",
    "    def __init__(self, api_key):\n",
    "        self.api_key = api_key\n",
    "        self.owm = pyowm.OWM(api_key)\n",
    "        self.file_name_tlv = 'weather_tlv.json'\n",
    "        self.file_name_nyc = 'weather_nyc.json'\n",
    "        self.file_name_rome = 'weather_rome.json'\n",
    "\n",
    "    def fetch_weather(self, city):\n",
    "        manager = self.owm.weather_manager()\n",
    "        observation = manager.weather_at_place(city)\n",
    "        weather = observation.weather\n",
    "        temp = weather.temperature('celsius')['temp']\n",
    "        humidity = weather.humidity\n",
    "        wind_speed = weather.wind()['speed']\n",
    "        return {'temperature': temp, 'humidity': humidity, 'wind_speed': wind_speed}\n",
    "\n",
    "    def save_weather_data(self, city):\n",
    "        weather_data = self.fetch_weather(city)\n",
    "        file_name = f'weather_{city.lower()}.json'\n",
    "        with open(file_name, 'w') as f:\n",
    "            json.dump(weather_data, f)\n",
    "        print(f\"Weather data for {city} saved to {file_name}.\")\n",
    "\n",
    "    def load_weather_data(self, city):\n",
    "        file_name = f'weather_{city.lower()}.json'\n",
    "        if os.path.exists(file_name):\n",
    "            with open(file_name, 'r') as f:\n",
    "                return json.load(f)\n",
    "        else:\n",
    "            print(f\"No data available for {city}.\")\n",
    "            return None\n",
    "\n",
    "    def calculate_avg_temperature(self):\n",
    "        cities = ['tlv', 'nyc', 'rome']\n",
    "        total_temp = 0\n",
    "        total_humidity = 0\n",
    "        total_wind_speed = 0\n",
    "        count = 0\n",
    "        for city in cities:\n",
    "            data = self.load_weather_data(city)\n",
    "            if data:\n",
    "                total_temp += data['temperature']\n",
    "                total_humidity += data['humidity']\n",
    "                total_wind_speed += data['wind_speed']\n",
    "                count += 1\n",
    "        if count > 0:\n",
    "            avg_temp = total_temp / count\n",
    "            avg_humidity = total_humidity / count\n",
    "            avg_wind_speed = total_wind_speed / count\n",
    "            return {'avg_temp': avg_temp, 'avg_humidity': avg_humidity, 'avg_wind_speed': avg_wind_speed}\n",
    "        else:\n",
    "            print(\"No data available to calculate average.\")\n",
    "            return None\n",
    "\n",
    "    def clear_weather_files(self):\n",
    "        files = [self.file_name_tlv, self.file_name_nyc, self.file_name_rome]\n",
    "        for file in files:\n",
    "            if os.path.exists(file):\n",
    "                os.remove(file)\n",
    "                print(f\"Deleted {file}.\")\n",
    "\n"
   ]
  },
  {
   "cell_type": "code",
   "execution_count": null,
   "id": "f51fcf47",
   "metadata": {
    "colab": {
     "base_uri": "https://localhost:8080/"
    },
    "id": "5WtN1NDC92Qo",
    "outputId": "40e4d8a9-49e6-48ce-d0d1-aad69497bb60"
   },
   "outputs": [
    {
     "data": {
      "text/plain": [
       "<module 'weather_utils' from '/content/weather_utils.py'>"
      ]
     },
     "execution_count": 7,
     "metadata": {},
     "output_type": "execute_result"
    }
   ],
   "source": [
    "import importlib\n",
    "import weather_utils\n",
    "importlib.reload(weather_utils)\n"
   ]
  },
  {
   "cell_type": "code",
   "execution_count": null,
   "id": "1e350ae7",
   "metadata": {
    "colab": {
     "base_uri": "https://localhost:8080/"
    },
    "id": "FgbQwUkRSzOx",
    "outputId": "674cec71-3d74-49ae-8076-43784680510e"
   },
   "outputs": [
    {
     "name": "stdout",
     "output_type": "stream",
     "text": [
      "\n",
      "Please choose an option:\n",
      "1. Display weather for Tel Aviv.\n",
      "2. Display weather for London.\n",
      "3. Display weather for Rome.\n",
      "4. Display average temperature across cities.\n",
      "5. Clear all saved weather files.\n",
      "6. Exit\n",
      "Your choice: 1\n",
      "Weather data for Tel Aviv saved to weather_tel aviv.json.\n",
      "Tel aviv Weather:\n",
      "- Temperature: 20.25°C\n",
      "- Humidity: 53%\n",
      "- Wind Speed: 4.12 km/h\n",
      "\n",
      "Please choose an option:\n",
      "1. Display weather for Tel Aviv.\n",
      "2. Display weather for London.\n",
      "3. Display weather for Rome.\n",
      "4. Display average temperature across cities.\n",
      "5. Clear all saved weather files.\n",
      "6. Exit\n",
      "Your choice: 2\n",
      "Weather data for London saved to weather_london.json.\n",
      "London Weather:\n",
      "- Temperature: 5.7°C\n",
      "- Humidity: 73%\n",
      "- Wind Speed: 7.72 km/h\n",
      "\n",
      "Please choose an option:\n",
      "1. Display weather for Tel Aviv.\n",
      "2. Display weather for London.\n",
      "3. Display weather for Rome.\n",
      "4. Display average temperature across cities.\n",
      "5. Clear all saved weather files.\n",
      "6. Exit\n",
      "Your choice: 3\n",
      "Weather data for Rome saved to weather_rome.json.\n",
      "Rome Weather:\n",
      "- Temperature: -2.72°C\n",
      "- Humidity: 78%\n",
      "- Wind Speed: 1.79 km/h\n",
      "\n",
      "Please choose an option:\n",
      "1. Display weather for Tel Aviv.\n",
      "2. Display weather for London.\n",
      "3. Display weather for Rome.\n",
      "4. Display average temperature across cities.\n",
      "5. Clear all saved weather files.\n",
      "6. Exit\n",
      "Your choice: 4\n",
      "No data available for tlv.\n",
      "No data available for nyc.\n",
      "Average Weather Across Cities:\n",
      "- Temperature: -2.72°C\n",
      "- Humidity: 78.0%\n",
      "- Wind Speed: 1.79 km/h\n",
      "\n",
      "Please choose an option:\n",
      "1. Display weather for Tel Aviv.\n",
      "2. Display weather for London.\n",
      "3. Display weather for Rome.\n",
      "4. Display average temperature across cities.\n",
      "5. Clear all saved weather files.\n",
      "6. Exit\n",
      "Your choice: 5\n",
      "Deleted weather_rome.json.\n",
      "\n",
      "Please choose an option:\n",
      "1. Display weather for Tel Aviv.\n",
      "2. Display weather for London.\n",
      "3. Display weather for Rome.\n",
      "4. Display average temperature across cities.\n",
      "5. Clear all saved weather files.\n",
      "6. Exit\n",
      "Your choice: 6\n",
      "Goodbye! Thank you for using the Weather Data Manager!\n"
     ]
    }
   ],
   "source": [
    "from weather_utils import WeatherDataManager\n",
    "\n",
    "def display_weather(city):\n",
    "    weather_data = weather_manager.load_weather_data(city)\n",
    "    if weather_data:\n",
    "        print(f\"{city.capitalize()} Weather:\")\n",
    "        print(f\"- Temperature: {weather_data['temperature']}°C\")\n",
    "        print(f\"- Humidity: {weather_data['humidity']}%\")\n",
    "        print(f\"- Wind Speed: {weather_data['wind_speed']} km/h\")\n",
    "\n",
    "def display_avg_temperature():\n",
    "    avg_data = weather_manager.calculate_avg_temperature()\n",
    "    if avg_data:\n",
    "        print(\"Average Weather Across Cities:\")\n",
    "        print(f\"- Temperature: {avg_data['avg_temp']}°C\")\n",
    "        print(f\"- Humidity: {avg_data['avg_humidity']}%\")\n",
    "        print(f\"- Wind Speed: {avg_data['avg_wind_speed']} km/h\")\n",
    "\n",
    "def main():\n",
    "    api_key = \"55cbde69be75f0816c56f21eb2d56b18\"\n",
    "    global weather_manager\n",
    "    weather_manager = WeatherDataManager(api_key)\n",
    "\n",
    "    while True:\n",
    "        print(\"\\nPlease choose an option:\")\n",
    "        print(\"1. Display weather for Tel Aviv.\")\n",
    "        print(\"2. Display weather for London.\")\n",
    "        print(\"3. Display weather for Rome.\")\n",
    "        print(\"4. Display average temperature across cities.\")\n",
    "        print(\"5. Clear all saved weather files.\")\n",
    "        print(\"6. Exit\")\n",
    "\n",
    "        choice = input(\"Your choice: \")\n",
    "\n",
    "        if choice == '1':\n",
    "            weather_manager.save_weather_data('Tel Aviv')\n",
    "            display_weather('tel aviv')\n",
    "        elif choice == '2':\n",
    "            weather_manager.save_weather_data('London')\n",
    "            display_weather('london')\n",
    "        elif choice == '3':\n",
    "            weather_manager.save_weather_data('Rome')\n",
    "            display_weather('rome')\n",
    "        elif choice == '4':\n",
    "            display_avg_temperature()\n",
    "        elif choice == '5':\n",
    "            weather_manager.clear_weather_files()\n",
    "        elif choice == '6':\n",
    "            print(\"Goodbye! Thank you for using the Weather Data Manager!\")\n",
    "            break\n",
    "        else:\n",
    "            print(\"Invalid choice. Please try again.\")\n",
    "\n",
    "if __name__ == \"__main__\":\n",
    "    main()\n"
   ]
  },
  {
   "cell_type": "code",
   "execution_count": null,
   "id": "017f7c64",
   "metadata": {
    "id": "l0sBUchWSzVB"
   },
   "outputs": [],
   "source": []
  },
  {
   "cell_type": "markdown",
   "id": "8bad8954",
   "metadata": {
    "id": "VEIGxbVJEtKI"
   },
   "source": [
    "Good Luck."
   ]
  }
 ],
 "metadata": {},
 "nbformat": 4,
 "nbformat_minor": 5
}
